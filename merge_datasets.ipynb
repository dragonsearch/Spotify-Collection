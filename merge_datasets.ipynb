{
 "cells": [
  {
   "cell_type": "code",
   "execution_count": 164,
   "metadata": {},
   "outputs": [],
   "source": [
    "import pandas as pd"
   ]
  },
  {
   "cell_type": "code",
   "execution_count": 165,
   "metadata": {},
   "outputs": [],
   "source": [
    "# We will decide on using these conventions:\n",
    "# track_name for song titles\n",
    "# artist_name for artist names\n",
    "# album_name for album titles\n",
    "# track_id for Spotify track IDs\n",
    "\n",
    "millsongdata = pd.read_csv('data/spotify_millsongdata.csv')\n",
    "\n"
   ]
  },
  {
   "cell_type": "code",
   "execution_count": 166,
   "metadata": {},
   "outputs": [
    {
     "name": "stdout",
     "output_type": "stream",
     "text": [
      "<class 'pandas.core.frame.DataFrame'>\n",
      "RangeIndex: 57650 entries, 0 to 57649\n",
      "Data columns (total 4 columns):\n",
      " #   Column  Non-Null Count  Dtype \n",
      "---  ------  --------------  ----- \n",
      " 0   artist  57650 non-null  object\n",
      " 1   song    57650 non-null  object\n",
      " 2   link    57650 non-null  object\n",
      " 3   text    57650 non-null  object\n",
      "dtypes: object(4)\n",
      "memory usage: 1.8+ MB\n",
      "None\n"
     ]
    }
   ],
   "source": [
    "# Print info about the data\n",
    "print(millsongdata.info())"
   ]
  },
  {
   "cell_type": "code",
   "execution_count": null,
   "metadata": {},
   "outputs": [],
   "source": []
  },
  {
   "cell_type": "code",
   "execution_count": 167,
   "metadata": {},
   "outputs": [
    {
     "name": "stdout",
     "output_type": "stream",
     "text": [
      "Max length of artist: 44\n",
      "Max length of song: 77\n",
      "Max length of link: 102\n",
      "Max length of text: 4186\n",
      "Min length of artist: 1\n",
      "Min length of song: 1\n",
      "Min length of link: 22\n",
      "Min length of text: 410\n",
      "Is there any % in artist? False\n",
      "Is there any % in song? False\n",
      "Is there any % in link? False\n",
      "Is there any % in text? False\n"
     ]
    }
   ],
   "source": [
    "# Check max length of all columns\n",
    "def max_length(df):\n",
    "    for column in df.columns:\n",
    "        if df[column].dtype == 'object':\n",
    "            print(f'Max length of {column}:', df[column].str.len().max())\n",
    "max_length(millsongdata)\n",
    "def min_length(df):\n",
    "    for column in df.columns:\n",
    "        if df[column].dtype == 'object':\n",
    "            print(f'Min length of {column}:', df[column].str.len().min())\n",
    "min_length(millsongdata)\n",
    "# Is there any % in the fields\n",
    "def check_char(df,char):\n",
    "    for column in df.columns:\n",
    "        if df[column].dtype == 'object':\n",
    "            print(f'Is there any {char} in {column}?', df[column].str.contains(char).any())\n",
    "check_char(millsongdata,'%')"
   ]
  },
  {
   "cell_type": "code",
   "execution_count": 168,
   "metadata": {},
   "outputs": [],
   "source": [
    "#Rename columns\n",
    "millsongdata.rename(columns={'artist':'track_artist', 'song':'track_name', 'text': 'lyrics'}, inplace=True)"
   ]
  },
  {
   "cell_type": "code",
   "execution_count": 169,
   "metadata": {},
   "outputs": [],
   "source": [
    "# Change delimiters to % \n",
    "millsongdata.to_csv('data/spotify_millsongdata_%.csv', sep='%', index=True)"
   ]
  },
  {
   "cell_type": "markdown",
   "metadata": {},
   "source": [
    "# Now spotify_songs.csv"
   ]
  },
  {
   "cell_type": "code",
   "execution_count": 170,
   "metadata": {},
   "outputs": [],
   "source": [
    "spotify_songs = pd.read_csv('data/spotify_songs.csv')"
   ]
  },
  {
   "cell_type": "code",
   "execution_count": 171,
   "metadata": {},
   "outputs": [
    {
     "name": "stdout",
     "output_type": "stream",
     "text": [
      "<class 'pandas.core.frame.DataFrame'>\n",
      "RangeIndex: 32833 entries, 0 to 32832\n",
      "Data columns (total 23 columns):\n",
      " #   Column                    Non-Null Count  Dtype  \n",
      "---  ------                    --------------  -----  \n",
      " 0   track_id                  32833 non-null  object \n",
      " 1   track_name                32828 non-null  object \n",
      " 2   track_artist              32828 non-null  object \n",
      " 3   track_popularity          32833 non-null  int64  \n",
      " 4   track_album_id            32833 non-null  object \n",
      " 5   track_album_name          32828 non-null  object \n",
      " 6   track_album_release_date  32833 non-null  object \n",
      " 7   playlist_name             32833 non-null  object \n",
      " 8   playlist_id               32833 non-null  object \n",
      " 9   playlist_genre            32833 non-null  object \n",
      " 10  playlist_subgenre         32833 non-null  object \n",
      " 11  danceability              32833 non-null  float64\n",
      " 12  energy                    32833 non-null  float64\n",
      " 13  key                       32833 non-null  int64  \n",
      " 14  loudness                  32833 non-null  float64\n",
      " 15  mode                      32833 non-null  int64  \n",
      " 16  speechiness               32833 non-null  float64\n",
      " 17  acousticness              32833 non-null  float64\n",
      " 18  instrumentalness          32833 non-null  float64\n",
      " 19  liveness                  32833 non-null  float64\n",
      " 20  valence                   32833 non-null  float64\n",
      " 21  tempo                     32833 non-null  float64\n",
      " 22  duration_ms               32833 non-null  int64  \n",
      "dtypes: float64(9), int64(4), object(10)\n",
      "memory usage: 5.8+ MB\n",
      "None\n"
     ]
    }
   ],
   "source": [
    "#info\n",
    "print(spotify_songs.info())"
   ]
  },
  {
   "cell_type": "code",
   "execution_count": 172,
   "metadata": {},
   "outputs": [
    {
     "name": "stdout",
     "output_type": "stream",
     "text": [
      "<class 'pandas.core.frame.DataFrame'>\n",
      "Index: 32828 entries, 0 to 32832\n",
      "Data columns (total 23 columns):\n",
      " #   Column                    Non-Null Count  Dtype  \n",
      "---  ------                    --------------  -----  \n",
      " 0   track_id                  32828 non-null  object \n",
      " 1   track_name                32828 non-null  object \n",
      " 2   track_artist              32828 non-null  object \n",
      " 3   track_popularity          32828 non-null  int64  \n",
      " 4   track_album_id            32828 non-null  object \n",
      " 5   track_album_name          32828 non-null  object \n",
      " 6   track_album_release_date  32828 non-null  object \n",
      " 7   playlist_name             32828 non-null  object \n",
      " 8   playlist_id               32828 non-null  object \n",
      " 9   playlist_genre            32828 non-null  object \n",
      " 10  playlist_subgenre         32828 non-null  object \n",
      " 11  danceability              32828 non-null  float64\n",
      " 12  energy                    32828 non-null  float64\n",
      " 13  key                       32828 non-null  int64  \n",
      " 14  loudness                  32828 non-null  float64\n",
      " 15  mode                      32828 non-null  int64  \n",
      " 16  speechiness               32828 non-null  float64\n",
      " 17  acousticness              32828 non-null  float64\n",
      " 18  instrumentalness          32828 non-null  float64\n",
      " 19  liveness                  32828 non-null  float64\n",
      " 20  valence                   32828 non-null  float64\n",
      " 21  tempo                     32828 non-null  float64\n",
      " 22  duration_ms               32828 non-null  int64  \n",
      "dtypes: float64(9), int64(4), object(10)\n",
      "memory usage: 6.0+ MB\n",
      "None\n"
     ]
    }
   ],
   "source": [
    "#drop null\n",
    "spotify_songs = spotify_songs.dropna()\n",
    "#info\n",
    "print(spotify_songs.info())"
   ]
  },
  {
   "cell_type": "code",
   "execution_count": 173,
   "metadata": {},
   "outputs": [
    {
     "name": "stdout",
     "output_type": "stream",
     "text": [
      "Max length of track_id: 22\n",
      "Max length of track_name: 144\n",
      "Max length of track_artist: 69\n",
      "Max length of track_album_id: 22\n",
      "Max length of track_album_name: 151\n",
      "Max length of track_album_release_date: 10\n",
      "Max length of playlist_name: 120\n",
      "Max length of playlist_id: 22\n",
      "Max length of playlist_genre: 5\n",
      "Max length of playlist_subgenre: 25\n",
      "------------------------\n",
      "Min length of track_id: 22\n",
      "Min length of track_name: 1\n",
      "Min length of track_artist: 2\n",
      "Min length of track_album_id: 22\n",
      "Min length of track_album_name: 1\n",
      "Min length of track_album_release_date: 4\n",
      "Min length of playlist_name: 6\n",
      "Min length of playlist_id: 22\n",
      "Min length of playlist_genre: 3\n",
      "Min length of playlist_subgenre: 4\n",
      "------------------------\n"
     ]
    }
   ],
   "source": [
    "# Check max length of all columns\n",
    "max_length(spotify_songs)\n",
    "print('------------------------')\n",
    "min_length(spotify_songs)\n",
    "print('------------------------')"
   ]
  },
  {
   "cell_type": "code",
   "execution_count": 174,
   "metadata": {},
   "outputs": [
    {
     "name": "stdout",
     "output_type": "stream",
     "text": [
      "Is there any · in track_id? False\n",
      "Is there any · in track_name? False\n",
      "Is there any · in track_artist? False\n",
      "Is there any · in track_album_id? False\n",
      "Is there any · in track_album_name? False\n",
      "Is there any · in track_album_release_date? False\n",
      "Is there any · in playlist_name? False\n",
      "Is there any · in playlist_id? False\n",
      "Is there any · in playlist_genre? False\n",
      "Is there any · in playlist_subgenre? False\n"
     ]
    }
   ],
   "source": [
    "# Is there any % in the fields\n",
    "check_char(spotify_songs,'·')"
   ]
  },
  {
   "cell_type": "code",
   "execution_count": 175,
   "metadata": {},
   "outputs": [],
   "source": [
    "# Change delimiters to ·\n",
    "spotify_songs.to_csv('data/spotify_songs_·.csv', sep='·')"
   ]
  },
  {
   "cell_type": "markdown",
   "metadata": {},
   "source": [
    "# Now with track_features.csv"
   ]
  },
  {
   "cell_type": "code",
   "execution_count": 176,
   "metadata": {},
   "outputs": [],
   "source": [
    "tracks = pd.read_csv('data/tracks_features.csv')\n",
    "tracks_orig = pd.read_csv('data/tracks_features.csv')"
   ]
  },
  {
   "cell_type": "code",
   "execution_count": 177,
   "metadata": {},
   "outputs": [
    {
     "name": "stdout",
     "output_type": "stream",
     "text": [
      "<class 'pandas.core.frame.DataFrame'>\n",
      "RangeIndex: 1204025 entries, 0 to 1204024\n",
      "Data columns (total 24 columns):\n",
      " #   Column            Non-Null Count    Dtype  \n",
      "---  ------            --------------    -----  \n",
      " 0   id                1204025 non-null  object \n",
      " 1   name              1204022 non-null  object \n",
      " 2   album             1204014 non-null  object \n",
      " 3   album_id          1204025 non-null  object \n",
      " 4   artists           1204025 non-null  object \n",
      " 5   artist_ids        1204025 non-null  object \n",
      " 6   track_number      1204025 non-null  int64  \n",
      " 7   disc_number       1204025 non-null  int64  \n",
      " 8   explicit          1204025 non-null  bool   \n",
      " 9   danceability      1204025 non-null  float64\n",
      " 10  energy            1204025 non-null  float64\n",
      " 11  key               1204025 non-null  int64  \n",
      " 12  loudness          1204025 non-null  float64\n",
      " 13  mode              1204025 non-null  int64  \n",
      " 14  speechiness       1204025 non-null  float64\n",
      " 15  acousticness      1204025 non-null  float64\n",
      " 16  instrumentalness  1204025 non-null  float64\n",
      " 17  liveness          1204025 non-null  float64\n",
      " 18  valence           1204025 non-null  float64\n",
      " 19  tempo             1204025 non-null  float64\n",
      " 20  duration_ms       1204025 non-null  int64  \n",
      " 21  time_signature    1204025 non-null  float64\n",
      " 22  year              1204025 non-null  int64  \n",
      " 23  release_date      1204025 non-null  object \n",
      "dtypes: bool(1), float64(10), int64(6), object(7)\n",
      "memory usage: 212.4+ MB\n",
      "None\n"
     ]
    }
   ],
   "source": [
    "#info\n",
    "print(tracks.info())"
   ]
  },
  {
   "cell_type": "code",
   "execution_count": 178,
   "metadata": {},
   "outputs": [
    {
     "name": "stdout",
     "output_type": "stream",
     "text": [
      "Max length of id: 22\n",
      "Max length of name: 568.0\n",
      "Max length of album: 243.0\n",
      "Max length of album_id: 22\n",
      "Max length of artists: 1171\n",
      "Max length of artist_ids: 1326\n",
      "Max length of release_date: 10\n",
      "------------------------\n",
      "Min length of id: 22\n",
      "Min length of name: 1.0\n",
      "Min length of album: 1.0\n",
      "Min length of album_id: 22\n",
      "Min length of artists: 5\n",
      "Min length of artist_ids: 26\n",
      "Min length of release_date: 4\n",
      "------------------------\n"
     ]
    }
   ],
   "source": [
    "max_length(tracks)\n",
    "print('------------------------')\n",
    "min_length(tracks)\n",
    "print('------------------------')"
   ]
  },
  {
   "cell_type": "code",
   "execution_count": 179,
   "metadata": {},
   "outputs": [
    {
     "name": "stdout",
     "output_type": "stream",
     "text": [
      "Is there any ¬ in id? False\n",
      "Is there any ¬ in name? False\n",
      "Is there any ¬ in album? False\n",
      "Is there any ¬ in album_id? False\n",
      "Is there any ¬ in artists? False\n",
      "Is there any ¬ in artist_ids? False\n",
      "Is there any ¬ in release_date? False\n"
     ]
    }
   ],
   "source": [
    "check_char(tracks,'¬')"
   ]
  },
  {
   "cell_type": "code",
   "execution_count": 180,
   "metadata": {},
   "outputs": [
    {
     "name": "stdout",
     "output_type": "stream",
     "text": [
      "0    [2d0hyoQ5ynDBnkvAbJKORj]\n",
      "1    [2d0hyoQ5ynDBnkvAbJKORj]\n",
      "2    [2d0hyoQ5ynDBnkvAbJKORj]\n",
      "3    [2d0hyoQ5ynDBnkvAbJKORj]\n",
      "4    [2d0hyoQ5ynDBnkvAbJKORj]\n",
      "Name: track_artist_ids, dtype: object\n",
      "51\n"
     ]
    }
   ],
   "source": [
    "# Rename id to track_id\n",
    "tracks = tracks.rename(columns={'id':'track_id', 'name':'track_name', 'artists':'track_artists', 'artist_ids':'track_artist_ids', 'explicit':'track_explicit' })\n",
    "\n",
    "# Convert track_artists to list using eval\n",
    "tracks['track_artists'] = tracks['track_artists'].apply(eval)\n",
    "tracks['track_artist_ids'] = tracks['track_artist_ids'].apply(eval)\n",
    "# Check\n",
    "print(tracks['track_artist_ids'].head())\n",
    "# Check maximum number of artists -> 51 WOW, and it is legit.\n",
    "print(tracks['track_artists'].apply(len).max())\n"
   ]
  },
  {
   "cell_type": "code",
   "execution_count": 181,
   "metadata": {},
   "outputs": [
    {
     "name": "stdout",
     "output_type": "stream",
     "text": [
      "                 track_id             track_artists        track_artist_ids\n",
      "0  7lmeHLHBe4nmXzuXc0HDjk  Rage Against The Machine  2d0hyoQ5ynDBnkvAbJKORj\n",
      "1  1wsRitfRRtWyEapl0q22o8  Rage Against The Machine  2d0hyoQ5ynDBnkvAbJKORj\n",
      "2  1hR0fIFK2qRG3f3RF70pb7  Rage Against The Machine  2d0hyoQ5ynDBnkvAbJKORj\n",
      "3  2lbASgTSoDO7MTuLAXlTW0  Rage Against The Machine  2d0hyoQ5ynDBnkvAbJKORj\n",
      "4  1MQTmpYOZ6fcMQc56Hdo7T  Rage Against The Machine  2d0hyoQ5ynDBnkvAbJKORj\n",
      "                       track_id      track_artists        track_artist_ids\n",
      "1186088  3lZ5reS0bAq9REusvBOeql        DJ Kay Slay  1giPduZUUFru23D2icr2A8\n",
      "1186088  3lZ5reS0bAq9REusvBOeql        Sheek Louch  14ejEUaU0wE2iAenbbv9b8\n",
      "1186088  3lZ5reS0bAq9REusvBOeql           Styles P  2x8KDZdSONA3872CnhaAlX\n",
      "1186088  3lZ5reS0bAq9REusvBOeql  Benny The Butcher  5Matrg5du62bXwer29cU5T\n",
      "1186088  3lZ5reS0bAq9REusvBOeql              Bun B  45a6gCQWq61lIUDmr1tKuO\n",
      "1186088  3lZ5reS0bAq9REusvBOeql   Ghostface Killah  6FD0unjzGQhX3b6eMccMJe\n",
      "1186088  3lZ5reS0bAq9REusvBOeql            Raekwon  2yQf6b8hxahZaT5dHlWaB1\n",
      "1186088  3lZ5reS0bAq9REusvBOeql                 AZ  7HqrSDuI9lHuH1CDismTFg\n",
      "1186088  3lZ5reS0bAq9REusvBOeql            Papoose  0mbgkaYR8KNUb5s3s1yYHG\n",
      "1186088  3lZ5reS0bAq9REusvBOeql             Ransom  0wZbdAcNn6AjGlNUZek9j4\n",
      "1186088  3lZ5reS0bAq9REusvBOeql      Memphis Bleek  4jWzNq3sdzSpqn7BnzvIKn\n",
      "1186088  3lZ5reS0bAq9REusvBOeql        Billy Danze  4Vpo7LEswQ37J4v0Kmj0fY\n",
      "1186088  3lZ5reS0bAq9REusvBOeql           Lil Fame  0GgrhOQXAZ98HE5O3l6N4u\n",
      "1186088  3lZ5reS0bAq9REusvBOeql          Dave East  7e10JUMF7MJmmwYpnTSMI5\n",
      "1186088  3lZ5reS0bAq9REusvBOeql          3d Na'tee  0qWcAUOG6kb4gSTJLZMG9B\n",
      "1186088  3lZ5reS0bAq9REusvBOeql        Joell Ortiz  1q13yHC6Syg5Y8iPLrRnCq\n",
      "1186088  3lZ5reS0bAq9REusvBOeql             Saigon  0mTfntDCCWRozUnyxpGf6E\n",
      "1186088  3lZ5reS0bAq9REusvBOeql      Mistah F.A.B.  55TH3aMMK1u2VsR8DPGC6D\n",
      "1186088  3lZ5reS0bAq9REusvBOeql       Chris Rivers  1YVuugCpH5ibMrXEatG2yn\n",
      "1186088  3lZ5reS0bAq9REusvBOeql         Jon Connor  1F5zdoXcwIB9XSNfitdo7x\n",
      "1186088  3lZ5reS0bAq9REusvBOeql             Twista  6vbY3hOaCAhC7VjucswgdS\n",
      "1186088  3lZ5reS0bAq9REusvBOeql               E-40  3crnzLy8R4lVwaigKEOz7V\n",
      "1186088  3lZ5reS0bAq9REusvBOeql           Nino Man  46oL4yVdytIAcN2NruQKeH\n",
      "1186088  3lZ5reS0bAq9REusvBOeql             Shoota  4uRYnKKYSAF0VNbVPPKPre\n",
      "1186088  3lZ5reS0bAq9REusvBOeql            Mysonne  3rTbLTVoxtJrCypTjkl0xD\n",
      "1186088  3lZ5reS0bAq9REusvBOeql        Sauce Money  16aHGTBi9sStOLH8OPIqlw\n",
      "1186088  3lZ5reS0bAq9REusvBOeql              Ice-T  0eGh2jSWPBX5GuqIHoZJZG\n",
      "1186088  3lZ5reS0bAq9REusvBOeql        Trick Trick  7tT5h21rKj9yFfQuqBYLqT\n",
      "1186088  3lZ5reS0bAq9REusvBOeql           RJ Payne  4GmSZif3utShxikscpSqjy\n",
      "1186088  3lZ5reS0bAq9REusvBOeql            E-A-SKI  3Zhm1NMatrjbKS6HrDMjr6\n",
      "1186088  3lZ5reS0bAq9REusvBOeql    Fred the Godson  4XfZS4DTtBxAd8JjsDFMzl\n",
      "1186088  3lZ5reS0bAq9REusvBOeql         Loaded Lux  6zRVoQ1aCEUA2aXkbJQiAe\n",
      "1186088  3lZ5reS0bAq9REusvBOeql        Termanology  7oF48iRjggIDjtfRcmmMvl\n",
      "1186088  3lZ5reS0bAq9REusvBOeql        Young Noble  55opTdgy591tKYeHF8EAV3\n",
      "1186088  3lZ5reS0bAq9REusvBOeql                EDI  3JHUuJQCbgRH5c2xQ40tPL\n",
      "1186088  3lZ5reS0bAq9REusvBOeql          Locksmith  0OGWDaYrjhn6v1Lq1rqrWa\n",
      "1186088  3lZ5reS0bAq9REusvBOeql            Cassidy  3WilJWdCNLSU7fpYjiKb7v\n",
      "1186088  3lZ5reS0bAq9REusvBOeql              Maino  20apXQGKM00jJTvYfyKwlb\n",
      "1186088  3lZ5reS0bAq9REusvBOeql               Vado  4ubKsFJjMgWkARG6w2Qlv8\n",
      "1186088  3lZ5reS0bAq9REusvBOeql           Rockness  4bTHSKtuRWfDgKiFPkdaDh\n",
      "1186088  3lZ5reS0bAq9REusvBOeql            DJ Paul  2ledyuziz6YjLK5Dw483Oc\n",
      "1186088  3lZ5reS0bAq9REusvBOeql           Mc Gruff  4mA83x5LNOlxOFsZyDVHtU\n",
      "1186088  3lZ5reS0bAq9REusvBOeql          Stan Spit  4uPxez8ce55Nfl3JfXa1Q7\n",
      "1186088  3lZ5reS0bAq9REusvBOeql        Uncle Murda  3kortApcf0ntRWexUkJE4H\n",
      "1186088  3lZ5reS0bAq9REusvBOeql          Cory Gunz  7BAaznGSsqcksud4R5ou5z\n",
      "1186088  3lZ5reS0bAq9REusvBOeql          Melle Mel  2vFI46txKvL9Gde572uNTz\n",
      "1186088  3lZ5reS0bAq9REusvBOeql    Grandmaster Caz  6QeZTS8BrU3r2TYJdA68j9\n",
      "1186088  3lZ5reS0bAq9REusvBOeql     Trae Tha Truth  49vCIUW46QY3L5vo1xVFoy\n",
      "1186088  3lZ5reS0bAq9REusvBOeql              Bynoe  5fdd3yiOQiNzdwAF35BOHG\n",
      "1186088  3lZ5reS0bAq9REusvBOeql         Hocus 45th  5eqTO1rj0pvNr6pTqd1KxC\n",
      "1186088  3lZ5reS0bAq9REusvBOeql       Royce da 5'9  5Tb46UFJ3eYrJ8P4aRf7Pk\n"
     ]
    }
   ],
   "source": [
    "\n",
    "# We will split artist into a separate file with track_id and artist_name\n",
    "# Create a new dataframe with track_id and artist_name\n",
    "artists = tracks[['track_id', 'track_artists', 'track_artist_ids']].explode(['track_artists', 'track_artist_ids'])\n",
    "# Check\n",
    "print(artists.head())\n",
    "# print all whose id = 3lZ5reS0bAq9REusvBOeql (50 artists)\n",
    "print(artists[artists['track_id'] == '3lZ5reS0bAq9REusvBOeql'])"
   ]
  },
  {
   "cell_type": "code",
   "execution_count": null,
   "metadata": {},
   "outputs": [],
   "source": []
  },
  {
   "cell_type": "code",
   "execution_count": 182,
   "metadata": {},
   "outputs": [],
   "source": [
    "# Save the artists dataframe\n",
    "artists.to_csv('data/spotify_artists_¬.csv', index=True, sep='¬')"
   ]
  },
  {
   "cell_type": "code",
   "execution_count": null,
   "metadata": {},
   "outputs": [],
   "source": []
  },
  {
   "cell_type": "code",
   "execution_count": 186,
   "metadata": {},
   "outputs": [
    {
     "name": "stdout",
     "output_type": "stream",
     "text": [
      "Index(['track_id', 'track_name', 'album', 'album_id', 'track_number',\n",
      "       'disc_number', 'track_explicit', 'danceability', 'energy', 'key',\n",
      "       'loudness', 'mode', 'speechiness', 'acousticness', 'instrumentalness',\n",
      "       'liveness', 'valence', 'tempo', 'duration_ms', 'time_signature', 'year',\n",
      "       'release_date'],\n",
      "      dtype='object')\n"
     ]
    }
   ],
   "source": [
    "# Save csv\n",
    "# Drop the artists column\n",
    "#tracks = tracks.drop(columns=['track_artists'])\n",
    "# Drop the artists_ids column\n",
    "#tracks = tracks.drop(columns=['track_artist_ids'])\n",
    "# print all columns\n",
    "print(tracks.columns)\n",
    "tracks.to_csv('data/tracks_features_¬.csv', sep='¬', index=False)\n",
    "#\n"
   ]
  },
  {
   "cell_type": "code",
   "execution_count": 184,
   "metadata": {},
   "outputs": [],
   "source": [
    "# Column to txt file\n",
    "#import numpy as np\n",
    "#np.savetxt(r'data/tracks_features.txt', tracks['all'].values, fmt='%s')"
   ]
  }
 ],
 "metadata": {
  "kernelspec": {
   "display_name": "Python 3",
   "language": "python",
   "name": "python3"
  },
  "language_info": {
   "codemirror_mode": {
    "name": "ipython",
    "version": 3
   },
   "file_extension": ".py",
   "mimetype": "text/x-python",
   "name": "python",
   "nbconvert_exporter": "python",
   "pygments_lexer": "ipython3",
   "version": "3.10.14"
  }
 },
 "nbformat": 4,
 "nbformat_minor": 2
}
