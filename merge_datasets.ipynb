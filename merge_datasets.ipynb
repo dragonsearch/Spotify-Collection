{
 "cells": [
  {
   "cell_type": "code",
   "execution_count": 3,
   "metadata": {},
   "outputs": [],
   "source": [
    "import pandas as pd"
   ]
  },
  {
   "cell_type": "code",
   "execution_count": 4,
   "metadata": {},
   "outputs": [],
   "source": [
    "millsongdata = pd.read_csv('data/spotify_millsongdata.csv')\n"
   ]
  },
  {
   "cell_type": "code",
   "execution_count": 5,
   "metadata": {},
   "outputs": [
    {
     "name": "stdout",
     "output_type": "stream",
     "text": [
      "<class 'pandas.core.frame.DataFrame'>\n",
      "RangeIndex: 57650 entries, 0 to 57649\n",
      "Data columns (total 4 columns):\n",
      " #   Column  Non-Null Count  Dtype \n",
      "---  ------  --------------  ----- \n",
      " 0   artist  57650 non-null  object\n",
      " 1   song    57650 non-null  object\n",
      " 2   link    57650 non-null  object\n",
      " 3   text    57650 non-null  object\n",
      "dtypes: object(4)\n",
      "memory usage: 1.8+ MB\n",
      "None\n"
     ]
    }
   ],
   "source": [
    "# Print info about the data\n",
    "print(millsongdata.info())"
   ]
  },
  {
   "cell_type": "code",
   "execution_count": 6,
   "metadata": {},
   "outputs": [
    {
     "name": "stdout",
     "output_type": "stream",
     "text": [
      "Max length of artist: 44\n",
      "Max length of song: 77\n",
      "Max length of link: 102\n",
      "Max length of text: 4186\n",
      "Min length of artist: 1\n",
      "Min length of song: 1\n",
      "Min length of link: 22\n",
      "Min length of text: 410\n",
      "Is there any % in artist? False\n",
      "Is there any % in song? False\n",
      "Is there any % in link? False\n",
      "Is there any % in text? False\n"
     ]
    }
   ],
   "source": [
    "# Check max length of all columns\n",
    "def max_length(df):\n",
    "    for column in df.columns:\n",
    "        if df[column].dtype == 'object':\n",
    "            print(f'Max length of {column}:', df[column].str.len().max())\n",
    "max_length(millsongdata)\n",
    "def min_length(df):\n",
    "    for column in df.columns:\n",
    "        if df[column].dtype == 'object':\n",
    "            print(f'Min length of {column}:', df[column].str.len().min())\n",
    "min_length(millsongdata)\n",
    "# Is there any % in the fields\n",
    "def check_char(df,char):\n",
    "    for column in df.columns:\n",
    "        if df[column].dtype == 'object':\n",
    "            print(f'Is there any {char} in {column}?', df[column].str.contains(char).any())\n",
    "check_char(millsongdata,'%')"
   ]
  },
  {
   "cell_type": "code",
   "execution_count": 7,
   "metadata": {},
   "outputs": [],
   "source": [
    "# Change delimiters to % \n",
    "millsongdata.to_csv('data/spotify_millsongdata_%.csv', sep='%')"
   ]
  },
  {
   "cell_type": "markdown",
   "metadata": {},
   "source": [
    "# Now spotify_songs.csv"
   ]
  },
  {
   "cell_type": "code",
   "execution_count": 8,
   "metadata": {},
   "outputs": [],
   "source": [
    "spotify_songs = pd.read_csv('data/spotify_songs.csv')"
   ]
  },
  {
   "cell_type": "code",
   "execution_count": 9,
   "metadata": {},
   "outputs": [
    {
     "name": "stdout",
     "output_type": "stream",
     "text": [
      "<class 'pandas.core.frame.DataFrame'>\n",
      "RangeIndex: 32833 entries, 0 to 32832\n",
      "Data columns (total 23 columns):\n",
      " #   Column                    Non-Null Count  Dtype  \n",
      "---  ------                    --------------  -----  \n",
      " 0   track_id                  32833 non-null  object \n",
      " 1   track_name                32828 non-null  object \n",
      " 2   track_artist              32828 non-null  object \n",
      " 3   track_popularity          32833 non-null  int64  \n",
      " 4   track_album_id            32833 non-null  object \n",
      " 5   track_album_name          32828 non-null  object \n",
      " 6   track_album_release_date  32833 non-null  object \n",
      " 7   playlist_name             32833 non-null  object \n",
      " 8   playlist_id               32833 non-null  object \n",
      " 9   playlist_genre            32833 non-null  object \n",
      " 10  playlist_subgenre         32833 non-null  object \n",
      " 11  danceability              32833 non-null  float64\n",
      " 12  energy                    32833 non-null  float64\n",
      " 13  key                       32833 non-null  int64  \n",
      " 14  loudness                  32833 non-null  float64\n",
      " 15  mode                      32833 non-null  int64  \n",
      " 16  speechiness               32833 non-null  float64\n",
      " 17  acousticness              32833 non-null  float64\n",
      " 18  instrumentalness          32833 non-null  float64\n",
      " 19  liveness                  32833 non-null  float64\n",
      " 20  valence                   32833 non-null  float64\n",
      " 21  tempo                     32833 non-null  float64\n",
      " 22  duration_ms               32833 non-null  int64  \n",
      "dtypes: float64(9), int64(4), object(10)\n",
      "memory usage: 5.8+ MB\n",
      "None\n"
     ]
    }
   ],
   "source": [
    "#info\n",
    "print(spotify_songs.info())"
   ]
  },
  {
   "cell_type": "code",
   "execution_count": 10,
   "metadata": {},
   "outputs": [
    {
     "name": "stdout",
     "output_type": "stream",
     "text": [
      "<class 'pandas.core.frame.DataFrame'>\n",
      "Index: 32828 entries, 0 to 32832\n",
      "Data columns (total 23 columns):\n",
      " #   Column                    Non-Null Count  Dtype  \n",
      "---  ------                    --------------  -----  \n",
      " 0   track_id                  32828 non-null  object \n",
      " 1   track_name                32828 non-null  object \n",
      " 2   track_artist              32828 non-null  object \n",
      " 3   track_popularity          32828 non-null  int64  \n",
      " 4   track_album_id            32828 non-null  object \n",
      " 5   track_album_name          32828 non-null  object \n",
      " 6   track_album_release_date  32828 non-null  object \n",
      " 7   playlist_name             32828 non-null  object \n",
      " 8   playlist_id               32828 non-null  object \n",
      " 9   playlist_genre            32828 non-null  object \n",
      " 10  playlist_subgenre         32828 non-null  object \n",
      " 11  danceability              32828 non-null  float64\n",
      " 12  energy                    32828 non-null  float64\n",
      " 13  key                       32828 non-null  int64  \n",
      " 14  loudness                  32828 non-null  float64\n",
      " 15  mode                      32828 non-null  int64  \n",
      " 16  speechiness               32828 non-null  float64\n",
      " 17  acousticness              32828 non-null  float64\n",
      " 18  instrumentalness          32828 non-null  float64\n",
      " 19  liveness                  32828 non-null  float64\n",
      " 20  valence                   32828 non-null  float64\n",
      " 21  tempo                     32828 non-null  float64\n",
      " 22  duration_ms               32828 non-null  int64  \n",
      "dtypes: float64(9), int64(4), object(10)\n",
      "memory usage: 6.0+ MB\n",
      "None\n"
     ]
    }
   ],
   "source": [
    "#drop null\n",
    "spotify_songs = spotify_songs.dropna()\n",
    "#info\n",
    "print(spotify_songs.info())"
   ]
  },
  {
   "cell_type": "code",
   "execution_count": 11,
   "metadata": {},
   "outputs": [
    {
     "name": "stdout",
     "output_type": "stream",
     "text": [
      "Max length of track_id: 22\n",
      "Max length of track_name: 144\n",
      "Max length of track_artist: 69\n",
      "Max length of track_album_id: 22\n",
      "Max length of track_album_name: 151\n",
      "Max length of track_album_release_date: 10\n",
      "Max length of playlist_name: 120\n",
      "Max length of playlist_id: 22\n",
      "Max length of playlist_genre: 5\n",
      "Max length of playlist_subgenre: 25\n",
      "------------------------\n",
      "Min length of track_id: 22\n",
      "Min length of track_name: 1\n",
      "Min length of track_artist: 2\n",
      "Min length of track_album_id: 22\n",
      "Min length of track_album_name: 1\n",
      "Min length of track_album_release_date: 4\n",
      "Min length of playlist_name: 6\n",
      "Min length of playlist_id: 22\n",
      "Min length of playlist_genre: 3\n",
      "Min length of playlist_subgenre: 4\n",
      "------------------------\n"
     ]
    }
   ],
   "source": [
    "# Check max length of all columns\n",
    "max_length(spotify_songs)\n",
    "print('------------------------')\n",
    "min_length(spotify_songs)\n",
    "print('------------------------')"
   ]
  },
  {
   "cell_type": "code",
   "execution_count": 12,
   "metadata": {},
   "outputs": [
    {
     "name": "stdout",
     "output_type": "stream",
     "text": [
      "Is there any · in track_id? False\n",
      "Is there any · in track_name? False\n",
      "Is there any · in track_artist? False\n",
      "Is there any · in track_album_id? False\n",
      "Is there any · in track_album_name? False\n",
      "Is there any · in track_album_release_date? False\n",
      "Is there any · in playlist_name? False\n",
      "Is there any · in playlist_id? False\n",
      "Is there any · in playlist_genre? False\n",
      "Is there any · in playlist_subgenre? False\n"
     ]
    }
   ],
   "source": [
    "# Is there any % in the fields\n",
    "check_char(spotify_songs,'·')"
   ]
  },
  {
   "cell_type": "code",
   "execution_count": 13,
   "metadata": {},
   "outputs": [],
   "source": [
    "# Change delimiters to ·\n",
    "spotify_songs.to_csv('data/spotify_songs_·.csv', sep='·')"
   ]
  },
  {
   "cell_type": "markdown",
   "metadata": {},
   "source": [
    "# Now with track_features.csv"
   ]
  },
  {
   "cell_type": "code",
   "execution_count": 14,
   "metadata": {},
   "outputs": [],
   "source": [
    "tracks = pd.read_csv('data/tracks_features.csv')"
   ]
  },
  {
   "cell_type": "code",
   "execution_count": 15,
   "metadata": {},
   "outputs": [
    {
     "name": "stdout",
     "output_type": "stream",
     "text": [
      "<class 'pandas.core.frame.DataFrame'>\n",
      "RangeIndex: 1204025 entries, 0 to 1204024\n",
      "Data columns (total 24 columns):\n",
      " #   Column            Non-Null Count    Dtype  \n",
      "---  ------            --------------    -----  \n",
      " 0   id                1204025 non-null  object \n",
      " 1   name              1204022 non-null  object \n",
      " 2   album             1204014 non-null  object \n",
      " 3   album_id          1204025 non-null  object \n",
      " 4   artists           1204025 non-null  object \n",
      " 5   artist_ids        1204025 non-null  object \n",
      " 6   track_number      1204025 non-null  int64  \n",
      " 7   disc_number       1204025 non-null  int64  \n",
      " 8   explicit          1204025 non-null  bool   \n",
      " 9   danceability      1204025 non-null  float64\n",
      " 10  energy            1204025 non-null  float64\n",
      " 11  key               1204025 non-null  int64  \n",
      " 12  loudness          1204025 non-null  float64\n",
      " 13  mode              1204025 non-null  int64  \n",
      " 14  speechiness       1204025 non-null  float64\n",
      " 15  acousticness      1204025 non-null  float64\n",
      " 16  instrumentalness  1204025 non-null  float64\n",
      " 17  liveness          1204025 non-null  float64\n",
      " 18  valence           1204025 non-null  float64\n",
      " 19  tempo             1204025 non-null  float64\n",
      " 20  duration_ms       1204025 non-null  int64  \n",
      " 21  time_signature    1204025 non-null  float64\n",
      " 22  year              1204025 non-null  int64  \n",
      " 23  release_date      1204025 non-null  object \n",
      "dtypes: bool(1), float64(10), int64(6), object(7)\n",
      "memory usage: 212.4+ MB\n",
      "None\n"
     ]
    }
   ],
   "source": [
    "#info\n",
    "print(tracks.info())"
   ]
  },
  {
   "cell_type": "code",
   "execution_count": 16,
   "metadata": {},
   "outputs": [
    {
     "name": "stdout",
     "output_type": "stream",
     "text": [
      "Max length of id: 22\n",
      "Max length of name: 568.0\n",
      "Max length of album: 243.0\n",
      "Max length of album_id: 22\n",
      "Max length of artists: 1171\n",
      "Max length of artist_ids: 1326\n",
      "Max length of release_date: 10\n",
      "------------------------\n",
      "Min length of id: 22\n",
      "Min length of name: 1.0\n",
      "Min length of album: 1.0\n",
      "Min length of album_id: 22\n",
      "Min length of artists: 5\n",
      "Min length of artist_ids: 26\n",
      "Min length of release_date: 4\n",
      "------------------------\n"
     ]
    }
   ],
   "source": [
    "max_length(tracks)\n",
    "print('------------------------')\n",
    "min_length(tracks)\n",
    "print('------------------------')"
   ]
  },
  {
   "cell_type": "code",
   "execution_count": 23,
   "metadata": {},
   "outputs": [
    {
     "name": "stdout",
     "output_type": "stream",
     "text": [
      "Is there any ::delim:: in id? False\n",
      "Is there any ::delim:: in name? False\n",
      "Is there any ::delim:: in album? False\n",
      "Is there any ::delim:: in album_id? False\n",
      "Is there any ::delim:: in artists? False\n",
      "Is there any ::delim:: in artist_ids? False\n",
      "Is there any ::delim:: in release_date? False\n"
     ]
    }
   ],
   "source": [
    "check_char(tracks,'::delim::')"
   ]
  },
  {
   "cell_type": "code",
   "execution_count": 24,
   "metadata": {},
   "outputs": [],
   "source": [
    "# We will use ::delim:: as delimiter\n",
    "# We need to group all columns in one \n",
    "tracks['all'] = tracks.apply(lambda x: '::delim::'.join(x.dropna().astype(str)), axis=1)"
   ]
  },
  {
   "cell_type": "code",
   "execution_count": 25,
   "metadata": {},
   "outputs": [
    {
     "name": "stdout",
     "output_type": "stream",
     "text": [
      "0    7lmeHLHBe4nmXzuXc0HDjk::delim::Testify::delim:...\n",
      "1    1wsRitfRRtWyEapl0q22o8::delim::Guerrilla Radio...\n",
      "2    1hR0fIFK2qRG3f3RF70pb7::delim::Calm Like a Bom...\n",
      "3    2lbASgTSoDO7MTuLAXlTW0::delim::Mic Check::deli...\n",
      "4    1MQTmpYOZ6fcMQc56Hdo7T::delim::Sleep Now In th...\n",
      "5    2LXPNLSMAauNJfnC58lSqY::delim::Born of a Broke...\n",
      "6    3moeHk8eIajvUEzVocXukf::delim::Born As Ghosts:...\n",
      "7    4llunZfVXv3NvUzXVB3VVL::delim::Maria::delim::T...\n",
      "8    21Mq0NzFoVRvOmLTOnJjng::delim::Voice of the Vo...\n",
      "9    6s2FgJbnnMwFTpWJZzvb6z::delim::New Millennium ...\n",
      "Name: all, dtype: object\n"
     ]
    }
   ],
   "source": [
    "#Show 'all' column first 10 rows\n",
    "print(tracks['all'].head(10))"
   ]
  },
  {
   "cell_type": "code",
   "execution_count": 27,
   "metadata": {},
   "outputs": [],
   "source": [
    "# Column to txt file\n",
    "np.savetxt(r'data/tracks_features.txt', tracks['all'].values, fmt='%s')"
   ]
  }
 ],
 "metadata": {
  "kernelspec": {
   "display_name": "Python 3",
   "language": "python",
   "name": "python3"
  },
  "language_info": {
   "codemirror_mode": {
    "name": "ipython",
    "version": 3
   },
   "file_extension": ".py",
   "mimetype": "text/x-python",
   "name": "python",
   "nbconvert_exporter": "python",
   "pygments_lexer": "ipython3",
   "version": "3.12.2"
  }
 },
 "nbformat": 4,
 "nbformat_minor": 2
}
